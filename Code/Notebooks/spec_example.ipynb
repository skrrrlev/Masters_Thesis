{
 "cells": [
  {
   "cell_type": "markdown",
   "metadata": {},
   "source": [
    "# How to load a .spec file"
   ]
  },
  {
   "cell_type": "code",
   "execution_count": 5,
   "metadata": {},
   "outputs": [],
   "source": [
    "import numpy as np\n",
    "from MTLib.spec import SpecFile, Observation\n",
    "from astropy import units as U\n",
    "\n",
    "data_dir = '/Volumes/Git/Master_Thesis/Data'\n",
    "file = data_dir + '/COSMOS/COSMOS_uv_nir/Id777178.spec'"
   ]
  },
  {
   "cell_type": "code",
   "execution_count": 6,
   "metadata": {},
   "outputs": [],
   "source": [
    "specfile = SpecFile(file)"
   ]
  },
  {
   "cell_type": "markdown",
   "metadata": {},
   "source": [
    "##### Let's take a look at what the object contains:"
   ]
  },
  {
   "cell_type": "code",
   "execution_count": 7,
   "metadata": {},
   "outputs": [
    {
     "name": "stdout",
     "output_type": "stream",
     "text": [
      "id777178@z2.9342; CFHT/MegaCam/u*: 2.12e-01 ± 8.26e-03 uJy\n",
      "id777178@z2.9342; CFHT/MegaCam/u: 1.24e-01 ± 1.26e-02 uJy\n",
      "id777178@z2.9342; Subaru/HSC/g: 7.20e-01 ± 1.31e-02 uJy\n",
      "id777178@z2.9342; Subaru/HSC/r: 1.27e+00 ± 1.68e-02 uJy\n",
      "id777178@z2.9342; Subaru/HSC/i: 1.44e+00 ± 1.68e-02 uJy\n",
      "id777178@z2.9342; Subaru/HSC/z: 1.53e+00 ± 2.22e-02 uJy\n",
      "id777178@z2.9342; Subaru/HSC/y: 1.59e+00 ± 3.34e-02 uJy\n",
      "id777178@z2.9342; VISTA/VIRCAM/Y: 1.63e+00 ± 1.10e-01 uJy\n",
      "id777178@z2.9342; VISTA/VIRCAM/J: 2.01e+00 ± 1.24e-01 uJy\n",
      "id777178@z2.9342; VISTA/VIRCAM/H: 3.26e+00 ± 1.76e-01 uJy\n",
      "id777178@z2.9342; VISTA/VIRCAM/Ks: 4.11e+00 ± 1.18e-01 uJy\n",
      "id777178@z2.9342; Subaru/Suprime-Cam/IB427: 5.41e-01 ± 6.33e-02 uJy\n",
      "id777178@z2.9342; Subaru/Suprime-Cam/IB464: 4.32e-01 ± 9.41e-02 uJy\n",
      "id777178@z2.9342; Subaru/Suprime-Cam/IA484: 4.25e-01 ± 3.67e-02 uJy\n",
      "id777178@z2.9342; Subaru/Suprime-Cam/IB505: 9.25e-01 ± 5.42e-02 uJy\n",
      "id777178@z2.9342; Subaru/Suprime-Cam/IA527: 1.07e+00 ± 4.09e-02 uJy\n",
      "id777178@z2.9342; Subaru/Suprime-Cam/IB574: 1.23e+00 ± 7.88e-02 uJy\n",
      "id777178@z2.9342; Subaru/Suprime-Cam/IA624: 1.22e+00 ± 4.13e-02 uJy\n",
      "id777178@z2.9342; Subaru/Suprime-Cam/IA679: 1.52e+00 ± 7.03e-02 uJy\n",
      "id777178@z2.9342; Subaru/Suprime-Cam/IB709: 1.47e+00 ± 6.77e-02 uJy\n",
      "id777178@z2.9342; Subaru/Suprime-Cam/IA738: 1.44e+00 ± 5.51e-02 uJy\n",
      "id777178@z2.9342; Subaru/Suprime-Cam/IA767: 1.48e+00 ± 8.23e-02 uJy\n",
      "id777178@z2.9342; Subaru/Suprime-Cam/IB827: 1.41e+00 ± 9.27e-02 uJy\n",
      "id777178@z2.9342; Subaru/Suprime-Cam/NB711: 1.35e+00 ± 1.06e-01 uJy\n",
      "id777178@z2.9342; Subaru/Suprime-Cam/NB816: 1.52e+00 ± 7.86e-02 uJy\n",
      "id777178@z2.9342; VISTA/VIRCAM/NB118: -9.90e+01 ± -9.90e+01 uJy\n",
      "id777178@z2.9342; Subaru/Suprime-Cam/B: 4.77e-01 ± 1.22e-02 uJy\n",
      "id777178@z2.9342; Subaru/Suprime-Cam/V: 1.17e+00 ± 2.58e-02 uJy\n",
      "id777178@z2.9342; Subaru/Suprime-Cam/r+: 1.31e+00 ± 1.80e-02 uJy\n",
      "id777178@z2.9342; Subaru/Suprime-Cam/i+: 1.49e+00 ± 2.45e-02 uJy\n",
      "id777178@z2.9342; Subaru/Suprime-Cam/z++: 1.54e+00 ± 1.04e-01 uJy\n",
      "id777178@z2.9342; Spitzer/IRAC/ch1: 9.24e+00 ± 1.89e-02 uJy\n",
      "id777178@z2.9342; Spitzer/IRAC/ch2: 1.40e+01 ± 3.60e-02 uJy\n",
      "id777178@z2.9342; Spitzer/IRAC/ch3: -9.90e+01 ± -9.90e+01 uJy\n",
      "id777178@z2.9342; Spitzer/IRAC/ch4: -9.90e+01 ± -9.90e+01 uJy\n",
      "id777178@z2.9342; GALEX/GALEX/FUV: -9.90e+01 ± -9.90e+01 uJy\n",
      "id777178@z2.9342; GALEX/GALEX/NUV: -9.90e+01 ± -9.90e+01 uJy\n"
     ]
    }
   ],
   "source": [
    "for obs in specfile.observations:\n",
    "    print(f'id{obs.target_id}@z{obs.zspec if obs.zspec != -99 else obs.zphot}; {obs.filter.get_generic_name()}: {obs.flux:.2e} ± {obs.flux_error:.2e} {obs.unit}')"
   ]
  },
  {
   "cell_type": "markdown",
   "metadata": {},
   "source": [
    "##### Let's now try to request the observations in mJy instead:"
   ]
  },
  {
   "cell_type": "code",
   "execution_count": 8,
   "metadata": {},
   "outputs": [
    {
     "name": "stdout",
     "output_type": "stream",
     "text": [
      "id777178@z2.9342; CFHT/MegaCam/u*: 2.12e-04 ± 8.26e-03 mJy\n",
      "id777178@z2.9342; CFHT/MegaCam/u: 1.24e-04 ± 1.26e-02 mJy\n",
      "id777178@z2.9342; Subaru/HSC/g: 7.20e-04 ± 1.31e-02 mJy\n",
      "id777178@z2.9342; Subaru/HSC/r: 1.27e-03 ± 1.68e-02 mJy\n",
      "id777178@z2.9342; Subaru/HSC/i: 1.44e-03 ± 1.68e-02 mJy\n",
      "id777178@z2.9342; Subaru/HSC/z: 1.53e-03 ± 2.22e-02 mJy\n",
      "id777178@z2.9342; Subaru/HSC/y: 1.59e-03 ± 3.34e-02 mJy\n",
      "id777178@z2.9342; VISTA/VIRCAM/Y: 1.63e-03 ± 1.10e-01 mJy\n",
      "id777178@z2.9342; VISTA/VIRCAM/J: 2.01e-03 ± 1.24e-01 mJy\n",
      "id777178@z2.9342; VISTA/VIRCAM/H: 3.26e-03 ± 1.76e-01 mJy\n",
      "id777178@z2.9342; VISTA/VIRCAM/Ks: 4.11e-03 ± 1.18e-01 mJy\n",
      "id777178@z2.9342; Subaru/Suprime-Cam/IB427: 5.41e-04 ± 6.33e-02 mJy\n",
      "id777178@z2.9342; Subaru/Suprime-Cam/IB464: 4.32e-04 ± 9.41e-02 mJy\n",
      "id777178@z2.9342; Subaru/Suprime-Cam/IA484: 4.25e-04 ± 3.67e-02 mJy\n",
      "id777178@z2.9342; Subaru/Suprime-Cam/IB505: 9.25e-04 ± 5.42e-02 mJy\n",
      "id777178@z2.9342; Subaru/Suprime-Cam/IA527: 1.07e-03 ± 4.09e-02 mJy\n",
      "id777178@z2.9342; Subaru/Suprime-Cam/IB574: 1.23e-03 ± 7.88e-02 mJy\n",
      "id777178@z2.9342; Subaru/Suprime-Cam/IA624: 1.22e-03 ± 4.13e-02 mJy\n",
      "id777178@z2.9342; Subaru/Suprime-Cam/IA679: 1.52e-03 ± 7.03e-02 mJy\n",
      "id777178@z2.9342; Subaru/Suprime-Cam/IB709: 1.47e-03 ± 6.77e-02 mJy\n",
      "id777178@z2.9342; Subaru/Suprime-Cam/IA738: 1.44e-03 ± 5.51e-02 mJy\n",
      "id777178@z2.9342; Subaru/Suprime-Cam/IA767: 1.48e-03 ± 8.23e-02 mJy\n",
      "id777178@z2.9342; Subaru/Suprime-Cam/IB827: 1.41e-03 ± 9.27e-02 mJy\n",
      "id777178@z2.9342; Subaru/Suprime-Cam/NB711: 1.35e-03 ± 1.06e-01 mJy\n",
      "id777178@z2.9342; Subaru/Suprime-Cam/NB816: 1.52e-03 ± 7.86e-02 mJy\n",
      "id777178@z2.9342; VISTA/VIRCAM/NB118: -9.90e+01 ± -9.90e+01 mJy\n",
      "id777178@z2.9342; Subaru/Suprime-Cam/B: 4.77e-04 ± 1.22e-02 mJy\n",
      "id777178@z2.9342; Subaru/Suprime-Cam/V: 1.17e-03 ± 2.58e-02 mJy\n",
      "id777178@z2.9342; Subaru/Suprime-Cam/r+: 1.31e-03 ± 1.80e-02 mJy\n",
      "id777178@z2.9342; Subaru/Suprime-Cam/i+: 1.49e-03 ± 2.45e-02 mJy\n",
      "id777178@z2.9342; Subaru/Suprime-Cam/z++: 1.54e-03 ± 1.04e-01 mJy\n",
      "id777178@z2.9342; Spitzer/IRAC/ch1: 9.24e-03 ± 1.89e-02 mJy\n",
      "id777178@z2.9342; Spitzer/IRAC/ch2: 1.40e-02 ± 3.60e-02 mJy\n",
      "id777178@z2.9342; Spitzer/IRAC/ch3: -9.90e+01 ± -9.90e+01 mJy\n",
      "id777178@z2.9342; Spitzer/IRAC/ch4: -9.90e+01 ± -9.90e+01 mJy\n",
      "id777178@z2.9342; GALEX/GALEX/FUV: -9.90e+01 ± -9.90e+01 mJy\n",
      "id777178@z2.9342; GALEX/GALEX/NUV: -9.90e+01 ± -9.90e+01 mJy\n"
     ]
    }
   ],
   "source": [
    "specfile2 = SpecFile(file, U.mJy)\n",
    "for obs in specfile2.observations:\n",
    "    print(f'id{obs.target_id}@z{obs.zspec if obs.zspec != -99 else obs.zphot}; {obs.filter.get_generic_name()}: {obs.flux:.2e} ± {obs.flux_error:.2e} {obs.unit}')"
   ]
  }
 ],
 "metadata": {
  "interpreter": {
   "hash": "5df8746bf4791d5d46c94574f6396b2db8f654b9e06f6d0dcf85778e958b2a98"
  },
  "kernelspec": {
   "display_name": "Python 3.9.6 ('venv': venv)",
   "language": "python",
   "name": "python3"
  },
  "language_info": {
   "codemirror_mode": {
    "name": "ipython",
    "version": 3
   },
   "file_extension": ".py",
   "mimetype": "text/x-python",
   "name": "python",
   "nbconvert_exporter": "python",
   "pygments_lexer": "ipython3",
   "version": "3.9.6"
  },
  "orig_nbformat": 4
 },
 "nbformat": 4,
 "nbformat_minor": 2
}
